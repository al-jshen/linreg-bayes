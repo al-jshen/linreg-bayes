{
 "cells": [
  {
   "cell_type": "code",
   "execution_count": 4,
   "id": "25205e80-d0d7-4c8d-8611-4c4faca2520f",
   "metadata": {},
   "outputs": [],
   "source": [
    "import numpy as np\n",
    "import matplotlib.pyplot as plt\n",
    "%matplotlib inline\n",
    "import cmdstanpy\n",
    "from IPython.display import Image\n"
   ]
  },
  {
   "cell_type": "markdown",
   "id": "42d3d5e0-b12e-4126-8923-d490ab4f9ab6",
   "metadata": {},
   "source": [
    "bayesian linear regression\n",
    "statistical model and pgms\n",
    "priors and likelihood\n",
    "prior predictive checks\n",
    "mcmc\n",
    "posterior samples\n",
    "posterior predictive checks"
   ]
  },
  {
   "cell_type": "markdown",
   "id": "cb500c16-454e-4b3b-bb96-746839141272",
   "metadata": {},
   "source": []
  }
 ],
 "metadata": {
  "kernelspec": {
   "display_name": "Python 3",
   "language": "python",
   "name": "python3"
  },
  "language_info": {
   "codemirror_mode": {
    "name": "ipython",
    "version": 3
   },
   "file_extension": ".py",
   "mimetype": "text/x-python",
   "name": "python",
   "nbconvert_exporter": "python",
   "pygments_lexer": "ipython3",
   "version": "3.9.1"
  }
 },
 "nbformat": 4,
 "nbformat_minor": 5
}
